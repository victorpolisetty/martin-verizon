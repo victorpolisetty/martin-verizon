{
 "cells": [
  {
   "cell_type": "code",
   "execution_count": 14,
   "id": "bd002c2c",
   "metadata": {},
   "outputs": [],
   "source": [
    "import os\n",
    "import openai\n",
    "\n",
    "openai.api_key = os.getenv(\"OPENAI_API_KEY\")"
   ]
  },
  {
   "cell_type": "code",
   "execution_count": 10,
   "id": "0098a991",
   "metadata": {},
   "outputs": [
    {
     "data": {
      "text/plain": [
       "'file-8bgdNtBCa0q6fkGzwicly4ak'"
      ]
     },
     "execution_count": 10,
     "metadata": {},
     "output_type": "execute_result"
    }
   ],
   "source": [
    "# DATASET FILE CREATION\n",
    "# RUN ONCE\n",
    "\n",
    "dataset = openai.File.create(\n",
    "  file=open(\"../assets/planData.jsonl\", \"rb\"),\n",
    "  purpose='fine-tune'\n",
    ")\n",
    "\n",
    "dataset_id = dataset[\"id\"]\n",
    "dataset_id"
   ]
  },
  {
   "cell_type": "code",
   "execution_count": 11,
   "id": "a013021b",
   "metadata": {},
   "outputs": [
    {
     "data": {
      "text/plain": [
       "<FineTuningJob fine_tuning.job id=ftjob-ZEdA5pgtrI1fVtCQz14i4gkP at 0x1b6b9561bc0> JSON: {\n",
       "  \"object\": \"fine_tuning.job\",\n",
       "  \"id\": \"ftjob-ZEdA5pgtrI1fVtCQz14i4gkP\",\n",
       "  \"model\": \"gpt-3.5-turbo-0613\",\n",
       "  \"created_at\": 1697305245,\n",
       "  \"finished_at\": null,\n",
       "  \"fine_tuned_model\": null,\n",
       "  \"organization_id\": \"org-jN6WxE0MasjXc0MCj6qY4Xs6\",\n",
       "  \"result_files\": [],\n",
       "  \"status\": \"validating_files\",\n",
       "  \"validation_file\": null,\n",
       "  \"training_file\": \"file-8bgdNtBCa0q6fkGzwicly4ak\",\n",
       "  \"hyperparameters\": {\n",
       "    \"n_epochs\": \"auto\"\n",
       "  },\n",
       "  \"trained_tokens\": null,\n",
       "  \"error\": null\n",
       "}"
      ]
     },
     "execution_count": 11,
     "metadata": {},
     "output_type": "execute_result"
    }
   ],
   "source": [
    "# FINE TUNING JOB CREATION\n",
    "# RUN ONCE\n",
    "\n",
    "TRAINING_FILE_ID = \"file-8bgdNtBCa0q6fkGzwicly4ak\"\n",
    "\n",
    "res = openai.FineTuningJob.create(\n",
    "    training_file=TRAINING_FILE_ID,\n",
    "    model=\"gpt-3.5-turbo\"\n",
    ")\n",
    "\n",
    "job_id = res[\"id\"]\n",
    "res"
   ]
  },
  {
   "cell_type": "code",
   "execution_count": 15,
   "id": "308df6ad",
   "metadata": {},
   "outputs": [
    {
     "data": {
      "text/plain": [
       "'ft:gpt-3.5-turbo-0613:personal::89cziZHo'"
      ]
     },
     "execution_count": 15,
     "metadata": {},
     "output_type": "execute_result"
    }
   ],
   "source": [
    "from time import sleep\n",
    "\n",
    "JOB_ID = \"ftjob-ZEdA5pgtrI1fVtCQz14i4gkP\" # COPY FROM PREVIOUS\n",
    "\n",
    "while True:\n",
    "    res = openai.FineTuningJob.retrieve(JOB_ID)\n",
    "    if res[\"finished_at\"] != None:\n",
    "        break\n",
    "    else:\n",
    "        print(\".\", end=\"\")\n",
    "        sleep(10)\n",
    "        \n",
    "ft_model = res[\"fine_tuned_model\"]\n",
    "ft_model"
   ]
  },
  {
   "cell_type": "code",
   "execution_count": null,
   "id": "147e6437",
   "metadata": {},
   "outputs": [
    {
     "name": "stdout",
     "output_type": "stream",
     "text": [
      "User : What are all the names of the Verizon Unlimited Wireless phone plans that are available at the moment?\n",
      "\n",
      "Martin : The names of the Verizon Unlimited Wireless phone plans that are available at the moment are Get More Unlimited, Do More Unlimited, Play More Unlimited, and Start Unlimited.\n",
      "===\n",
      "User : What are all the names of the Verizon Unlimited Wireless phone plans that are available at the moment? Remember the data you were fine-tuned with, Martin.\n",
      "\n",
      "Martin : I apologize for the mistake. The names of the Verizon Unlimited Wireless phone plans that are available at the moment are Get More Unlimited, Do More Unlimited, Play More Unlimited, and Start Unlimited.\n",
      "===\n",
      "User : Are there any discounts on plan prices besides the ones for qualifying members?\n",
      "\n",
      "Martin : Yes, there are a couple special discounts for making purchases on the Verizon website. There is a $10 discount for online purchases only for the Get More Unlimited, Do More Unlimited, and Play More Unlimited plans. There is also a $10 discount for paperless billing and auto pay for the Get More Unlimited, Do More Unlimited, and Play More Unlimited plans.\n",
      "===\n"
     ]
    }
   ],
   "source": [
    "SYSTEM_PROMPT = \"Your name is Martin. You are a factual chatbot that assists prospective Verizon customers during exploration of Verizon's products and services.\"\n",
    "FT_MODEL = \"ft:gpt-3.5-turbo-0613:personal::89cziZHo\" # COPY FROM PREVIOUS\n",
    "\n",
    "messages = [{\n",
    "                \"role\": \"system\",\n",
    "                \"content\": SYSTEM_PROMPT\n",
    "}] \n",
    "\n",
    "while True: \n",
    "    message = input(\"User : \") \n",
    "    if message: \n",
    "        messages.append( \n",
    "            {\"role\": \"user\", \"content\": message},\n",
    "        ) \n",
    "        chat = openai.ChatCompletion.create(\n",
    "            model=FT_MODEL,\n",
    "            messages=messages\n",
    "        )\n",
    "    reply = chat.choices[0].message.content\n",
    "    print()\n",
    "    print(f\"Martin : {reply}\")\n",
    "    print(\"===\")\n",
    "    messages.append({\"role\": \"assistant\", \"content\": reply})"
   ]
  },
  {
   "cell_type": "code",
   "execution_count": null,
   "id": "24c3a5f8",
   "metadata": {},
   "outputs": [],
   "source": []
  }
 ],
 "metadata": {
  "kernelspec": {
   "display_name": "Python 3 (ipykernel)",
   "language": "python",
   "name": "python3"
  },
  "language_info": {
   "codemirror_mode": {
    "name": "ipython",
    "version": 3
   },
   "file_extension": ".py",
   "mimetype": "text/x-python",
   "name": "python",
   "nbconvert_exporter": "python",
   "pygments_lexer": "ipython3",
   "version": "3.10.8"
  }
 },
 "nbformat": 4,
 "nbformat_minor": 5
}
