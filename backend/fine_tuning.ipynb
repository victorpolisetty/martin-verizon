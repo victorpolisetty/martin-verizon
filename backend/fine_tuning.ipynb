{
 "cells": [
  {
   "cell_type": "code",
   "execution_count": 4,
   "id": "bd002c2c",
   "metadata": {},
   "outputs": [],
   "source": [
    "import os\n",
    "import openai\n",
    "\n",
    "openai.api_key = os.getenv(\"OPENAI_API_KEY\")"
   ]
  },
  {
   "cell_type": "code",
   "execution_count": null,
   "id": "0098a991",
   "metadata": {},
   "outputs": [],
   "source": [
    "# DATASET FILE CREATION\n",
    "# RUN ONCE\n",
    "\n",
    "dataset = openai.File.create(\n",
    "  file=open(\"assets/planData.jsonl\", \"rb\"),\n",
    "  purpose='fine-tune'\n",
    ")\n",
    "\n",
    "dataset_id = dataset[\"id\"]\n",
    "dataset_id"
   ]
  },
  {
   "cell_type": "code",
   "execution_count": 2,
   "id": "a013021b",
   "metadata": {},
   "outputs": [
    {
     "data": {
      "text/plain": [
       "<FineTuningJob fine_tuning.job id=ftjob-74D6aH47eFRdAFCdWXkh3BBO at 0x1d697abb920> JSON: {\n",
       "  \"object\": \"fine_tuning.job\",\n",
       "  \"id\": \"ftjob-74D6aH47eFRdAFCdWXkh3BBO\",\n",
       "  \"model\": \"gpt-3.5-turbo-0613\",\n",
       "  \"created_at\": 1697302001,\n",
       "  \"finished_at\": null,\n",
       "  \"fine_tuned_model\": null,\n",
       "  \"organization_id\": \"org-jN6WxE0MasjXc0MCj6qY4Xs6\",\n",
       "  \"result_files\": [],\n",
       "  \"status\": \"validating_files\",\n",
       "  \"validation_file\": null,\n",
       "  \"training_file\": \"file-15l9ofkdkeKNNL5glLB9ibDX\",\n",
       "  \"hyperparameters\": {\n",
       "    \"n_epochs\": \"auto\"\n",
       "  },\n",
       "  \"trained_tokens\": null,\n",
       "  \"error\": null\n",
       "}"
      ]
     },
     "execution_count": 2,
     "metadata": {},
     "output_type": "execute_result"
    }
   ],
   "source": [
    "# FINE TUNING JOB CREATION\n",
    "# RUN ONCE\n",
    "\n",
    "training_file_id = \"file-15l9ofkdkeKNNL5glLB9ibDX\"\n",
    "\n",
    "res = openai.FineTuningJob.create(\n",
    "    training_file=training_file_id,\n",
    "    model=\"gpt-3.5-turbo\"\n",
    ")\n",
    "\n",
    "job_id = res[\"id\"]\n",
    "res\n",
    "\n",
    "# <FineTuningJob fine_tuning.job id=ftjob-74D6aH47eFRdAFCdWXkh3BBO at 0x1d697abb920> JSON: {\n",
    "#   \"object\": \"fine_tuning.job\",\n",
    "#   \"id\": \"ftjob-74D6aH47eFRdAFCdWXkh3BBO\",\n",
    "#   \"model\": \"gpt-3.5-turbo-0613\",\n",
    "#   \"created_at\": 1697302001,\n",
    "#   \"finished_at\": null,\n",
    "#   \"fine_tuned_model\": null,\n",
    "#   \"organization_id\": \"org-jN6WxE0MasjXc0MCj6qY4Xs6\",\n",
    "#   \"result_files\": [],\n",
    "#   \"status\": \"validating_files\",\n",
    "#   \"validation_file\": null,\n",
    "#   \"training_file\": \"file-15l9ofkdkeKNNL5glLB9ibDX\",\n",
    "#   \"hyperparameters\": {\n",
    "#     \"n_epochs\": \"auto\"\n",
    "#   },\n",
    "#   \"trained_tokens\": null,\n",
    "#   \"error\": null\n",
    "# }"
   ]
  },
  {
   "cell_type": "code",
   "execution_count": 3,
   "id": "308df6ad",
   "metadata": {},
   "outputs": [
    {
     "data": {
      "text/plain": [
       "'ft:gpt-3.5-turbo-0613:personal::89cASKIe'"
      ]
     },
     "execution_count": 3,
     "metadata": {},
     "output_type": "execute_result"
    }
   ],
   "source": [
    "from time import sleep\n",
    "\n",
    "job_id = \"ftjob-74D6aH47eFRdAFCdWXkh3BBO\"\n",
    "\n",
    "while True:\n",
    "    res = openai.FineTuningJob.retrieve(job_id)\n",
    "    if res[\"finished_at\"] != None:\n",
    "        break\n",
    "    else:\n",
    "        print(\".\", end=\"\")\n",
    "        sleep(100)\n",
    "        \n",
    "ft_model = res[\"fine_tuned_model\"]\n",
    "ft_model"
   ]
  },
  {
   "cell_type": "code",
   "execution_count": null,
   "id": "147e6437",
   "metadata": {},
   "outputs": [
    {
     "name": "stdout",
     "output_type": "stream",
     "text": [
      "User : What are all the plans verizon offers? Just give a list of the names of the plans.\n",
      "Fine Tuned Verizon Model: Verizon offers the following plans: Start Unlimited, Play More Unlimited, Do More Unlimited, Get More Unlimited, Just Kids, 5 GB, 10 GB, and 15 GB.\n",
      "User : What's offered and not offered in the Verizon 5G Play More plan? Reference your fine-tuned context, Martin.\n",
      "Fine Tuned Verizon Model: In the Verizon 5G Play More plan, the following are offered: 5G Nationwide, 5G Ultra Wideband, 50 GB Premium Network Access, 25 GB Mobile Hotspot, 720p Video Streaming, Verizon Call Filter, 6 months of Apple Music, 6 months of Apple Arcade / Google Play Pass, 6 months of Disney+ Streaming, and 6 months of Hulu Streaming. The following are not offered: Canada & Mexico Talk / Text / Data, 50% off Connected Device Discount, and Travel Pass Discount.\n"
     ]
    }
   ],
   "source": [
    "ft_model = \"ft:gpt-3.5-turbo-0613:personal::89cASKIe\"\n",
    "\n",
    "messages = [ {\"role\": \"system\", \"content\":  \n",
    "              \"You are a factual chatbot that assists prospective Verizon customers during exploration of Verizon's products and services.\"} ] \n",
    "\n",
    "while True: \n",
    "    message = input(\"User : \") \n",
    "    if message: \n",
    "        messages.append( \n",
    "            {\"role\": \"user\", \"content\": message}, \n",
    "        ) \n",
    "        chat = openai.ChatCompletion.create(\n",
    "            model=ft_model,\n",
    "            messages=messages\n",
    "        ) \n",
    "    reply = chat.choices[0].message.content \n",
    "    print(f\"Fine Tuned Verizon Model: {reply}\")\n",
    "    messages.append({\"role\": \"assistant\", \"content\": reply})\n",
    "\n",
    "# completion = openai.ChatCompletion.create(\n",
    "#   model=ft_model,\n",
    "#   messages=[\n",
    "#     {\"role\": \"system\", \"content\": \"You are a factual chatbot that assists prospective Verizon customers during exploration of Verizon's products and services.\"},\n",
    "#     {\"role\": \"user\", \"content\": \"What are !\"}\n",
    "#   ]\n",
    "# )\n",
    "# print(completion.choices[0].message)"
   ]
  },
  {
   "cell_type": "code",
   "execution_count": null,
   "id": "24c3a5f8",
   "metadata": {},
   "outputs": [],
   "source": []
  }
 ],
 "metadata": {
  "kernelspec": {
   "display_name": "Python 3 (ipykernel)",
   "language": "python",
   "name": "python3"
  },
  "language_info": {
   "codemirror_mode": {
    "name": "ipython",
    "version": 3
   },
   "file_extension": ".py",
   "mimetype": "text/x-python",
   "name": "python",
   "nbconvert_exporter": "python",
   "pygments_lexer": "ipython3",
   "version": "3.10.8"
  }
 },
 "nbformat": 4,
 "nbformat_minor": 5
}
